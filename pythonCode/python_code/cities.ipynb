{
 "cells": [
  {
   "cell_type": "code",
   "execution_count": 1,
   "id": "a4bda2b7",
   "metadata": {},
   "outputs": [
    {
     "name": "stdout",
     "output_type": "stream",
     "text": [
      "['New York', 'Paris', 'Sydney', 'Tokyo', 'Madrid', 'Austin']\n"
     ]
    }
   ],
   "source": [
    "cities = ['New York', 'Paris', 'Sydney', 'Tokyo', 'Madrid', 'Austin']\n",
    "print(cities)"
   ]
  },
  {
   "cell_type": "code",
   "execution_count": 2,
   "id": "9a26b7a8",
   "metadata": {},
   "outputs": [
    {
     "name": "stdout",
     "output_type": "stream",
     "text": [
      "The original list: \n",
      "['New York', 'Paris', 'Sydney', 'Tokyo', 'Madrid', 'Austin']\n",
      "The sorted list: \n",
      "['Austin', 'Madrid', 'New York', 'Paris', 'Sydney', 'Tokyo']\n",
      "['Tokyo', 'Sydney', 'Paris', 'New York', 'Madrid', 'Austin']\n",
      "The original list, again: \n",
      "['New York', 'Paris', 'Sydney', 'Tokyo', 'Madrid', 'Austin']\n"
     ]
    }
   ],
   "source": [
    "cities = ['New York', 'Paris', 'Sydney', 'Tokyo', 'Madrid', 'Austin']\n",
    "print(\"The original list: \")\n",
    "print(cities)\n",
    "sorted_cities = sorted(cities)\n",
    "print(\"The sorted list: \")\n",
    "print(sorted_cities)\n",
    "sorted_cities.sort(reverse = True)\n",
    "print(sorted_cities)\n",
    "print(\"The original list, again: \")\n",
    "print(cities)"
   ]
  },
  {
   "cell_type": "code",
   "execution_count": null,
   "id": "ce3dfe6a",
   "metadata": {},
   "outputs": [],
   "source": []
  }
 ],
 "metadata": {
  "kernelspec": {
   "display_name": "Python 3",
   "language": "python",
   "name": "python3"
  },
  "language_info": {
   "codemirror_mode": {
    "name": "ipython",
    "version": 3
   },
   "file_extension": ".py",
   "mimetype": "text/x-python",
   "name": "python",
   "nbconvert_exporter": "python",
   "pygments_lexer": "ipython3",
   "version": "3.10.7"
  },
  "vscode": {
   "interpreter": {
    "hash": "aee8b7b246df8f9039afb4144a1f6fd8d2ca17a180786b69acc140d282b71a49"
   }
  }
 },
 "nbformat": 4,
 "nbformat_minor": 5
}
