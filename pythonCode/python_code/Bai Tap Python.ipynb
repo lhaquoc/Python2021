{
 "cells": [
  {
   "cell_type": "code",
   "execution_count": 2,
   "id": "32228d55",
   "metadata": {
    "scrolled": false
   },
   "outputs": [
    {
     "name": "stdout",
     "output_type": "stream",
     "text": [
      "[]\n",
      "[]\n"
     ]
    }
   ],
   "source": [
    "# Tao list rong\n",
    "emptyList = []\n",
    "# Tao doi tuong list\n",
    "emptyList2 = list()\n",
    "print(emptyList)\n",
    "print(emptyList2)"
   ]
  },
  {
   "cell_type": "code",
   "execution_count": 3,
   "id": "8f63ba66",
   "metadata": {},
   "outputs": [
    {
     "name": "stdout",
     "output_type": "stream",
     "text": [
      "['red', 'green', 'blue', 'yellow', 'orange']\n"
     ]
    }
   ],
   "source": [
    "# Tao list co data\n",
    "colors = ['red', 'green', 'blue', 'yellow', 'orange']\n",
    "print(colors)"
   ]
  },
  {
   "cell_type": "code",
   "execution_count": 4,
   "id": "a460fb4e",
   "metadata": {},
   "outputs": [
    {
     "name": "stdout",
     "output_type": "stream",
     "text": [
      "Ngan\n",
      "Binh\n"
     ]
    }
   ],
   "source": [
    "studentList = ['An', 'Binh', 'Ngan', 'Vy']\n",
    "print(studentList[2])\n",
    "print(studentList[1])"
   ]
  },
  {
   "cell_type": "code",
   "execution_count": 5,
   "id": "e7b96866",
   "metadata": {},
   "outputs": [
    {
     "name": "stdout",
     "output_type": "stream",
     "text": [
      "['An', 'Binh', 'Ngan', 'Vy']\n",
      "['An', 'Binh', 'Ngan', 'Vy']\n"
     ]
    }
   ],
   "source": [
    "print(studentList)\n",
    "print(studentList[:])"
   ]
  },
  {
   "cell_type": "code",
   "execution_count": 6,
   "id": "72e066db",
   "metadata": {},
   "outputs": [
    {
     "name": "stdout",
     "output_type": "stream",
     "text": [
      "['Binh']\n",
      "['An', 'Binh']\n",
      "['Binh', 'Ngan', 'Vy']\n"
     ]
    }
   ],
   "source": [
    "# studentList[x:y] -> lay ra [x:y], lay tu x den < y\n",
    "print(studentList[1:2])\n",
    "print(studentList[0:2])\n",
    "print(studentList[1:4])"
   ]
  },
  {
   "cell_type": "code",
   "execution_count": 7,
   "id": "94c902b8",
   "metadata": {},
   "outputs": [
    {
     "name": "stdout",
     "output_type": "stream",
     "text": [
      "['An', 'Binh', 'Ngan', 'Vy', 'Thien']\n",
      "['An', 'Binh', 'Ngan', 'Vy', 'Thien', 'Thanh']\n"
     ]
    }
   ],
   "source": [
    "# them phan tu vao cuoi list\n",
    "studentList.append('Thien')\n",
    "print(studentList)\n",
    "studentList[len(studentList):] = ['Thanh']\n",
    "print(studentList)"
   ]
  },
  {
   "cell_type": "code",
   "execution_count": 8,
   "id": "0b16c066",
   "metadata": {},
   "outputs": [
    {
     "name": "stdout",
     "output_type": "stream",
     "text": [
      "['An', 'Binh', 'Ngoc', 'Ngan', 'Vy', 'Thien', 'Thanh']\n"
     ]
    }
   ],
   "source": [
    "# chen phan tu vao list\n",
    "studentList.insert(2, 'Ngoc')\n",
    "print(studentList)"
   ]
  },
  {
   "cell_type": "code",
   "execution_count": 9,
   "id": "9ca5f8e3",
   "metadata": {},
   "outputs": [
    {
     "name": "stdout",
     "output_type": "stream",
     "text": [
      "7\n"
     ]
    }
   ],
   "source": [
    "# so luong phan tu trong list\n",
    "print(len(studentList))"
   ]
  },
  {
   "cell_type": "code",
   "execution_count": 10,
   "id": "ba8f9002",
   "metadata": {},
   "outputs": [
    {
     "name": "stdout",
     "output_type": "stream",
     "text": [
      "Dem Ngoc:  1\n",
      "Dem Thanh:  1\n",
      "Dem An:  1\n"
     ]
    }
   ],
   "source": [
    "# dem so phan tu thoa dk\n",
    "print('Dem Ngoc: ', studentList.count('Ngoc'))\n",
    "print('Dem Thanh: ', studentList.count('Thanh'))\n",
    "print('Dem An: ', studentList.count('An'))"
   ]
  },
  {
   "cell_type": "code",
   "execution_count": 11,
   "id": "81d311a8",
   "metadata": {},
   "outputs": [
    {
     "name": "stdout",
     "output_type": "stream",
     "text": [
      "['An', 'Binh', 'Ngan', 'Vy', 'Thien', 'Thanh']\n",
      "['Binh', 'Ngan', 'Vy', 'Thien', 'Thanh']\n"
     ]
    }
   ],
   "source": [
    "# kiem tra phan tu co trong list: in\n",
    "# xoa phan tu ra khoi list bang gia tri\n",
    "if 'Ngoc' in studentList:\n",
    "    studentList.remove('Ngoc')\n",
    "    print(studentList)\n",
    "\n",
    "# xoa phan tu ra khoi list bang vi tri\n",
    "studentList.pop(0)\n",
    "print(studentList)"
   ]
  },
  {
   "cell_type": "code",
   "execution_count": 12,
   "id": "dd00359d",
   "metadata": {},
   "outputs": [
    {
     "name": "stdout",
     "output_type": "stream",
     "text": [
      "['Thanh', 'Thien', 'Vy', 'Ngan', 'Binh']\n"
     ]
    }
   ],
   "source": [
    "# dao nguoc list\n",
    "studentList.reverse()\n",
    "print(studentList)"
   ]
  },
  {
   "cell_type": "code",
   "execution_count": 13,
   "id": "07c7cf80",
   "metadata": {},
   "outputs": [
    {
     "name": "stdout",
     "output_type": "stream",
     "text": [
      "[0, 1, 5, 5, 7, 7, 9]\n"
     ]
    }
   ],
   "source": [
    "numbers = [7, 5, 1, 9, 0, 5, 7]\n",
    "numbers.sort()\n",
    "print(numbers)"
   ]
  },
  {
   "cell_type": "code",
   "execution_count": 14,
   "id": "c55bd2c3",
   "metadata": {},
   "outputs": [
    {
     "name": "stdout",
     "output_type": "stream",
     "text": [
      "['Vy', 'Thien', 'Thanh', 'Ngan', 'Binh']\n"
     ]
    }
   ],
   "source": [
    "# sap xep nguoc\n",
    "studentList.sort(reverse=True)\n",
    "print(studentList)"
   ]
  },
  {
   "cell_type": "code",
   "execution_count": 15,
   "id": "d2b85a64",
   "metadata": {},
   "outputs": [
    {
     "name": "stdout",
     "output_type": "stream",
     "text": [
      "[9, 7, 7, 5, 5, 1, 0]\n"
     ]
    }
   ],
   "source": [
    "# sap xep nguoc\n",
    "numbers.sort(reverse=True)\n",
    "print(numbers)"
   ]
  },
  {
   "cell_type": "code",
   "execution_count": 16,
   "id": "9811c519",
   "metadata": {},
   "outputs": [
    {
     "name": "stdout",
     "output_type": "stream",
     "text": [
      "0\n",
      "1\n",
      "2\n",
      "3\n",
      "4\n",
      "5\n",
      "6\n",
      "7\n",
      "8\n",
      "9\n"
     ]
    }
   ],
   "source": [
    "#print(1)\n",
    "#print(2)\n",
    "#...\n",
    "# vong lap di tu 0 -> <n, moi lan tang 1 don vi\n",
    "n = 10\n",
    "for i in range(n):\n",
    "    print(i)"
   ]
  },
  {
   "cell_type": "code",
   "execution_count": 19,
   "id": "9000053d",
   "metadata": {},
   "outputs": [
    {
     "name": "stdout",
     "output_type": "stream",
     "text": [
      "Nhap vao n: 5\n",
      "Tong =  15\n"
     ]
    }
   ],
   "source": [
    "# vi du tinh tong cac so tu 0 -> n\n",
    "n = int(input('Nhap vao n: '))\n",
    "tong = 0\n",
    "for i in range(n + 1):\n",
    "    tong += i\n",
    "print('Tong = ', tong)"
   ]
  },
  {
   "cell_type": "code",
   "execution_count": 21,
   "id": "41a76f57",
   "metadata": {},
   "outputs": [
    {
     "name": "stdout",
     "output_type": "stream",
     "text": [
      "0\n",
      "2\n",
      "4\n",
      "6\n",
      "8\n",
      "10\n",
      "9\n",
      "8\n",
      "7\n",
      "6\n",
      "5\n",
      "4\n",
      "3\n",
      "2\n",
      "1\n"
     ]
    }
   ],
   "source": [
    "# vong lap for, co buoc tang tuy chinh\n",
    "for i in range(0, 10, 2):\n",
    "    print(i)\n",
    "for i in range(10, 0, -1):\n",
    "    print(i)"
   ]
  },
  {
   "cell_type": "code",
   "execution_count": 22,
   "id": "34ecef32",
   "metadata": {},
   "outputs": [
    {
     "name": "stdout",
     "output_type": "stream",
     "text": [
      "red\n",
      "yellow\n",
      "green\n"
     ]
    }
   ],
   "source": [
    "colors = ['red', 'yellow', 'green']\n",
    "# vong lap for duyet cac phan tu cua list\n",
    "for color in colors:\n",
    "    print(color)"
   ]
  },
  {
   "cell_type": "code",
   "execution_count": 24,
   "id": "3173433f",
   "metadata": {},
   "outputs": [
    {
     "name": "stdout",
     "output_type": "stream",
     "text": [
      "red\n",
      "yellow\n",
      "green\n"
     ]
    }
   ],
   "source": [
    "# vong lap for duyet phan tu theo vi tri\n",
    "for i in range(len(colors)):\n",
    "    print(colors[i])"
   ]
  },
  {
   "cell_type": "code",
   "execution_count": 25,
   "id": "935eaa49",
   "metadata": {},
   "outputs": [
    {
     "name": "stdout",
     "output_type": "stream",
     "text": [
      "2 x 1 = 2\n",
      "2 x 2 = 4\n",
      "2 x 3 = 6\n",
      "2 x 4 = 8\n",
      "2 x 5 = 10\n",
      "2 x 6 = 12\n",
      "2 x 7 = 14\n",
      "2 x 8 = 16\n",
      "2 x 9 = 18\n",
      "2 x 10 = 20\n"
     ]
    }
   ],
   "source": [
    "for i in range(1, 11):\n",
    "    print('2 x {0} = {1}'.format(i, 2 * i))"
   ]
  },
  {
   "cell_type": "code",
   "execution_count": 26,
   "id": "d816135e",
   "metadata": {},
   "outputs": [
    {
     "name": "stdout",
     "output_type": "stream",
     "text": [
      "Bang cuu chuong  2\n",
      "2 x 1 = 2\n",
      "2 x 2 = 4\n",
      "2 x 3 = 6\n",
      "2 x 4 = 8\n",
      "2 x 5 = 10\n",
      "2 x 6 = 12\n",
      "2 x 7 = 14\n",
      "2 x 8 = 16\n",
      "2 x 9 = 18\n",
      "2 x 10 = 20\n",
      "Bang cuu chuong  3\n",
      "3 x 1 = 3\n",
      "3 x 2 = 6\n",
      "3 x 3 = 9\n",
      "3 x 4 = 12\n",
      "3 x 5 = 15\n",
      "3 x 6 = 18\n",
      "3 x 7 = 21\n",
      "3 x 8 = 24\n",
      "3 x 9 = 27\n",
      "3 x 10 = 30\n",
      "Bang cuu chuong  4\n",
      "4 x 1 = 4\n",
      "4 x 2 = 8\n",
      "4 x 3 = 12\n",
      "4 x 4 = 16\n",
      "4 x 5 = 20\n",
      "4 x 6 = 24\n",
      "4 x 7 = 28\n",
      "4 x 8 = 32\n",
      "4 x 9 = 36\n",
      "4 x 10 = 40\n",
      "Bang cuu chuong  5\n",
      "5 x 1 = 5\n",
      "5 x 2 = 10\n",
      "5 x 3 = 15\n",
      "5 x 4 = 20\n",
      "5 x 5 = 25\n",
      "5 x 6 = 30\n",
      "5 x 7 = 35\n",
      "5 x 8 = 40\n",
      "5 x 9 = 45\n",
      "5 x 10 = 50\n",
      "Bang cuu chuong  6\n",
      "6 x 1 = 6\n",
      "6 x 2 = 12\n",
      "6 x 3 = 18\n",
      "6 x 4 = 24\n",
      "6 x 5 = 30\n",
      "6 x 6 = 36\n",
      "6 x 7 = 42\n",
      "6 x 8 = 48\n",
      "6 x 9 = 54\n",
      "6 x 10 = 60\n",
      "Bang cuu chuong  7\n",
      "7 x 1 = 7\n",
      "7 x 2 = 14\n",
      "7 x 3 = 21\n",
      "7 x 4 = 28\n",
      "7 x 5 = 35\n",
      "7 x 6 = 42\n",
      "7 x 7 = 49\n",
      "7 x 8 = 56\n",
      "7 x 9 = 63\n",
      "7 x 10 = 70\n",
      "Bang cuu chuong  8\n",
      "8 x 1 = 8\n",
      "8 x 2 = 16\n",
      "8 x 3 = 24\n",
      "8 x 4 = 32\n",
      "8 x 5 = 40\n",
      "8 x 6 = 48\n",
      "8 x 7 = 56\n",
      "8 x 8 = 64\n",
      "8 x 9 = 72\n",
      "8 x 10 = 80\n",
      "Bang cuu chuong  9\n",
      "9 x 1 = 9\n",
      "9 x 2 = 18\n",
      "9 x 3 = 27\n",
      "9 x 4 = 36\n",
      "9 x 5 = 45\n",
      "9 x 6 = 54\n",
      "9 x 7 = 63\n",
      "9 x 8 = 72\n",
      "9 x 9 = 81\n",
      "9 x 10 = 90\n"
     ]
    }
   ],
   "source": [
    "for j in range(2, 10):\n",
    "    print('Bang cuu chuong ', j)\n",
    "    for i in range(1, 11):\n",
    "        print('{0} x {1} = {2}'.format(j, i, j * i))"
   ]
  },
  {
   "cell_type": "code",
   "execution_count": 28,
   "id": "993800ef",
   "metadata": {},
   "outputs": [
    {
     "name": "stdout",
     "output_type": "stream",
     "text": [
      "<class 'int'>\n",
      "<class 'float'>\n",
      "<class 'bool'>\n",
      "<class 'str'>\n"
     ]
    }
   ],
   "source": [
    "a = 10\n",
    "print(type(a))\n",
    "b = 10.5\n",
    "print(type(b))\n",
    "c = True\n",
    "print(type(c))\n",
    "d = 'xin chao'\n",
    "print(type(d))"
   ]
  },
  {
   "cell_type": "code",
   "execution_count": 30,
   "id": "238d04db",
   "metadata": {},
   "outputs": [
    {
     "name": "stdout",
     "output_type": "stream",
     "text": [
      "hellopython\n"
     ]
    }
   ],
   "source": [
    "# cong chuoi\n",
    "s1 = 'hello'\n",
    "s2 = 'python'\n",
    "s3 = s1 + s2\n",
    "print(s3)"
   ]
  },
  {
   "cell_type": "code",
   "execution_count": 31,
   "id": "e17a130c",
   "metadata": {},
   "outputs": [
    {
     "name": "stdout",
     "output_type": "stream",
     "text": [
      "\n",
      "Dong 1\n",
      "Dong 2\n",
      "Dong 3\n",
      "\n"
     ]
    }
   ],
   "source": [
    "# tao chuoi nhieu dong\n",
    "chuoiNhieuDong = '''\n",
    "Dong 1\n",
    "Dong 2\n",
    "Dong 3\n",
    "'''\n",
    "print(chuoiNhieuDong)"
   ]
  },
  {
   "cell_type": "code",
   "execution_count": 33,
   "id": "34459c78",
   "metadata": {},
   "outputs": [
    {
     "name": "stdout",
     "output_type": "stream",
     "text": [
      "this is a string\n",
      "this is a string\n",
      "this is a string\n",
      "this is a string\n",
      "this is a string\n",
      "this is a string\n",
      "this is a string\n",
      "this is a string\n",
      "this is a string\n",
      "this is a string\n",
      "\n"
     ]
    }
   ],
   "source": [
    "# lap lai chuoi\n",
    "string = 'this is a string\\n'\n",
    "string_10 = string * 10\n",
    "print(string_10)"
   ]
  },
  {
   "cell_type": "code",
   "execution_count": 35,
   "id": "77261f68",
   "metadata": {},
   "outputs": [
    {
     "name": "stdout",
     "output_type": "stream",
     "text": [
      "s2 la con cua s1\n",
      "s3 khong la con cua s1\n"
     ]
    }
   ],
   "source": [
    "# kiem tra chuoi co thuoc chuoi khac\n",
    "s1 = 'Xin chao cac ban'\n",
    "s2 = 'Xin chao'\n",
    "s3 = 'vn'\n",
    "if s2 in s1:\n",
    "    print('s2 la con cua s1')\n",
    "else:\n",
    "    print('s2 khong la con cua s1')\n",
    "    \n",
    "if s3 in s1:\n",
    "    print('s3 la con cua s1')\n",
    "else:\n",
    "    print('s3 khong la con cua s1')"
   ]
  },
  {
   "cell_type": "code",
   "execution_count": 36,
   "id": "6a91f074",
   "metadata": {},
   "outputs": [
    {
     "name": "stdout",
     "output_type": "stream",
     "text": [
      "Hom nay troi dep qua!\n"
     ]
    }
   ],
   "source": [
    "# viet hoa chu dau chuoi\n",
    "s = 'hom nay troi dep qua!'\n",
    "s = str.capitalize(s)\n",
    "print(s)"
   ]
  },
  {
   "cell_type": "code",
   "execution_count": 37,
   "id": "b592de10",
   "metadata": {},
   "outputs": [
    {
     "name": "stdout",
     "output_type": "stream",
     "text": [
      "HOM NAY TROI DEP QUA!\n"
     ]
    }
   ],
   "source": [
    "# viet hoa toan bo chuoi\n",
    "s = s.upper()\n",
    "print(s)"
   ]
  },
  {
   "cell_type": "code",
   "execution_count": 38,
   "id": "98f95854",
   "metadata": {},
   "outputs": [
    {
     "name": "stdout",
     "output_type": "stream",
     "text": [
      "hom nay troi dep qua!\n"
     ]
    }
   ],
   "source": [
    "# viet thuong toan bo chuoi\n",
    "s = s.lower()\n",
    "print(s)"
   ]
  },
  {
   "cell_type": "code",
   "execution_count": 39,
   "id": "bb71770e",
   "metadata": {},
   "outputs": [
    {
     "name": "stdout",
     "output_type": "stream",
     "text": [
      "-1\n",
      "10\n",
      "2\n"
     ]
    }
   ],
   "source": [
    "# tim va dem toan bo so luong chuoi con\n",
    "s = 'Lập trình Python là xu hướng hiện nay. Bạn nên học lập trình Python.'\n",
    "print(s.find('PythonX')) # tra ve -1 neu khong tim thay, nguoc lai tra ve vi tri dau tien\n",
    "print(s.find('Python'))\n",
    "print(s.count('Python'))"
   ]
  },
  {
   "cell_type": "code",
   "execution_count": 40,
   "id": "ba29e22a",
   "metadata": {},
   "outputs": [
    {
     "name": "stdout",
     "output_type": "stream",
     "text": [
      "Lập trình PYTHON là xu hướng hiện nay. Bạn nên học lập trình PYTHON.\n"
     ]
    }
   ],
   "source": [
    "# thay the chuoi\n",
    "s = 'Lập trình Python là xu hướng hiện nay. Bạn nên học lập trình Python.'\n",
    "s = s.replace('Python', 'PYTHON')\n",
    "print(s)"
   ]
  },
  {
   "cell_type": "code",
   "execution_count": 42,
   "id": "f5fab994",
   "metadata": {},
   "outputs": [
    {
     "name": "stdout",
     "output_type": "stream",
     "text": [
      "['Lập', 'trình', 'Python', 'là', 'xu', 'hướng', 'hiện', 'nay.', 'Bạn', 'nên', 'học', 'lập', 'trình', 'Python.']\n",
      "['Lập trình Python là xu hướng hiện nay', ' Bạn nên học lập trình Python', '']\n"
     ]
    }
   ],
   "source": [
    "# cat chuoi thanh list\n",
    "s = 'Lập trình Python là xu hướng hiện nay. Bạn nên học lập trình Python.'\n",
    "list1 = s.split(' ')\n",
    "print(list1)\n",
    "list2 = s.split('.')\n",
    "print(list2)"
   ]
  },
  {
   "cell_type": "code",
   "execution_count": 43,
   "id": "7fb1b830",
   "metadata": {},
   "outputs": [
    {
     "name": "stdout",
     "output_type": "stream",
     "text": [
      "1 + 2 = 3\n"
     ]
    }
   ],
   "source": [
    "print('{0} + {1} = {2}'.format(1, 2, 1 + 2))"
   ]
  },
  {
   "cell_type": "code",
   "execution_count": 44,
   "id": "f689ee62",
   "metadata": {},
   "outputs": [
    {
     "name": "stdout",
     "output_type": "stream",
     "text": [
      "Lập trình \n"
     ]
    }
   ],
   "source": [
    "# lay chuoi con\n",
    "print(s[0:10])"
   ]
  },
  {
   "cell_type": "code",
   "execution_count": 5,
   "id": "f3777b37",
   "metadata": {},
   "outputs": [
    {
     "name": "stdout",
     "output_type": "stream",
     "text": [
      "Nhap vao n > 0: 123456789\n",
      "ket qua:  111010110111100110100010101\n"
     ]
    }
   ],
   "source": [
    "# nhap n (n > 0)\n",
    "n = -1\n",
    "while (n <= 0):\n",
    "    n = int(input('Nhap vao n > 0: '))\n",
    "# chuyen doi tu thap phan sang nhi phan\n",
    "x = n\n",
    "ketQua = ''\n",
    "while (n > 0):\n",
    "    ketQua = str(n % 2) + ketQua\n",
    "    #print('n % 2 = ', n % 2)\n",
    "    n = n // 2\n",
    "    #print('n = ', n)\n",
    "print('ket qua: ',ketQua)"
   ]
  },
  {
   "cell_type": "code",
   "execution_count": 6,
   "id": "c19fe159",
   "metadata": {},
   "outputs": [],
   "source": [
    "gioiTinh = ('Nam', 'Nu')"
   ]
  },
  {
   "cell_type": "code",
   "execution_count": 2,
   "id": "a6dc938d",
   "metadata": {},
   "outputs": [],
   "source": [
    "lopHoc = (1, 2, 3, 4, 5, 6, 7, 8, 9, 10, 11, 12)"
   ]
  },
  {
   "cell_type": "code",
   "execution_count": 3,
   "id": "a380ec42",
   "metadata": {},
   "outputs": [],
   "source": [
    "traiCay = ('Tao', 'Chuoi', 'Tao', 'Cam', 'Man', 'Dua hau')"
   ]
  },
  {
   "cell_type": "code",
   "execution_count": 8,
   "id": "bfd10bd4",
   "metadata": {},
   "outputs": [
    {
     "name": "stdout",
     "output_type": "stream",
     "text": [
      "Nam\n"
     ]
    }
   ],
   "source": [
    "print(gioiTinh[0])"
   ]
  },
  {
   "cell_type": "code",
   "execution_count": 9,
   "id": "6c84430e",
   "metadata": {},
   "outputs": [
    {
     "name": "stdout",
     "output_type": "stream",
     "text": [
      "('Tao', 'Chuoi', 'Tao', 'Cam', 'Man', 'Dua hau')\n"
     ]
    }
   ],
   "source": [
    "print(traiCay)"
   ]
  },
  {
   "cell_type": "code",
   "execution_count": 10,
   "id": "4ecf8c28",
   "metadata": {},
   "outputs": [
    {
     "name": "stdout",
     "output_type": "stream",
     "text": [
      "Tao\n",
      "Chuoi\n",
      "Tao\n",
      "Cam\n",
      "Man\n",
      "Dua hau\n"
     ]
    }
   ],
   "source": [
    "for x in traiCay:\n",
    "    print(x)"
   ]
  },
  {
   "cell_type": "code",
   "execution_count": 12,
   "id": "0f6c3832",
   "metadata": {},
   "outputs": [
    {
     "name": "stdout",
     "output_type": "stream",
     "text": [
      "(1, 2, 3, 4, 5, 6)\n"
     ]
    }
   ],
   "source": [
    "y = (1, 2, 3) + (4, 5, 6)\n",
    "print(y)"
   ]
  },
  {
   "cell_type": "code",
   "execution_count": 13,
   "id": "ad63f43b",
   "metadata": {},
   "outputs": [
    {
     "name": "stdout",
     "output_type": "stream",
     "text": [
      "(1, 2, 3, 1, 2, 3)\n"
     ]
    }
   ],
   "source": [
    "y = (1, 2, 3) * 2\n",
    "print(y)"
   ]
  },
  {
   "cell_type": "code",
   "execution_count": null,
   "id": "7afc8f89",
   "metadata": {},
   "outputs": [],
   "source": []
  }
 ],
 "metadata": {
  "kernelspec": {
   "display_name": "Python 3 (ipykernel)",
   "language": "python",
   "name": "python3"
  },
  "language_info": {
   "codemirror_mode": {
    "name": "ipython",
    "version": 3
   },
   "file_extension": ".py",
   "mimetype": "text/x-python",
   "name": "python",
   "nbconvert_exporter": "python",
   "pygments_lexer": "ipython3",
   "version": "3.9.7"
  }
 },
 "nbformat": 4,
 "nbformat_minor": 5
}
