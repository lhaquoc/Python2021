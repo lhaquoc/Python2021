{
 "cells": [
  {
   "cell_type": "code",
   "execution_count": 1,
   "id": "4ebf19e0",
   "metadata": {},
   "outputs": [
    {
     "name": "stdout",
     "output_type": "stream",
     "text": [
      "['audi', 'bmw', 'subaru', 'toyota']\n"
     ]
    }
   ],
   "source": [
    "cars = ['bmw', 'toyota', 'audi', 'subaru']\n",
    "cars.sort()\n",
    "print(cars)"
   ]
  },
  {
   "cell_type": "code",
   "execution_count": 2,
   "id": "5f04a908",
   "metadata": {},
   "outputs": [
    {
     "name": "stdout",
     "output_type": "stream",
     "text": [
      "['toyota', 'subaru', 'bmw', 'audi']\n"
     ]
    }
   ],
   "source": [
    "cars = ['bmw', 'toyota', 'audi', 'subaru']\n",
    "cars.sort(reverse = True)\n",
    "print(cars)"
   ]
  },
  {
   "cell_type": "code",
   "execution_count": 3,
   "id": "3a0c4966",
   "metadata": {},
   "outputs": [
    {
     "name": "stdout",
     "output_type": "stream",
     "text": [
      "Here is the original list: \n",
      "['bmw', 'toyota', 'audi', 'subaru']\n",
      "\n",
      "Here is the sorted list: \n",
      "['audi', 'bmw', 'subaru', 'toyota']\n",
      "Here is the original list, again: \n",
      "['bmw', 'toyota', 'audi', 'subaru']\n"
     ]
    }
   ],
   "source": [
    "cars = ['bmw', 'toyota', 'audi', 'subaru']\n",
    "print(\"Here is the original list: \")\n",
    "print(cars)\n",
    "print(\"\\nHere is the sorted list: \")\n",
    "print(sorted(cars))\n",
    "print(\"Here is the original list, again: \")\n",
    "print(cars)"
   ]
  },
  {
   "cell_type": "code",
   "execution_count": 4,
   "id": "6561e665",
   "metadata": {},
   "outputs": [
    {
     "name": "stdout",
     "output_type": "stream",
     "text": [
      "['subaru', 'audi', 'toyota', 'bmw']\n"
     ]
    }
   ],
   "source": [
    "cars = ['bmw', 'toyota', 'audi', 'subaru']\n",
    "cars.reverse()\n",
    "print(cars)"
   ]
  },
  {
   "cell_type": "code",
   "execution_count": 5,
   "id": "3384e5d1",
   "metadata": {},
   "outputs": [
    {
     "name": "stdout",
     "output_type": "stream",
     "text": [
      "4\n"
     ]
    }
   ],
   "source": [
    "cars = ['bmw', 'toyota', 'audi', 'subaru']\n",
    "print(len(cars))"
   ]
  },
  {
   "cell_type": "code",
   "execution_count": null,
   "id": "4f988d0c",
   "metadata": {},
   "outputs": [],
   "source": []
  }
 ],
 "metadata": {
  "kernelspec": {
   "display_name": "Python 3 (ipykernel)",
   "language": "python",
   "name": "python3"
  },
  "language_info": {
   "codemirror_mode": {
    "name": "ipython",
    "version": 3
   },
   "file_extension": ".py",
   "mimetype": "text/x-python",
   "name": "python",
   "nbconvert_exporter": "python",
   "pygments_lexer": "ipython3",
   "version": "3.9.7"
  }
 },
 "nbformat": 4,
 "nbformat_minor": 5
}
