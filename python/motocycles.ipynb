{
 "cells": [
  {
   "cell_type": "code",
   "execution_count": 3,
   "id": "6d802cb4",
   "metadata": {},
   "outputs": [
    {
     "name": "stdout",
     "output_type": "stream",
     "text": [
      "['honda', 'yamaha', 'suzuki']\n"
     ]
    }
   ],
   "source": [
    "# appending Elements to the End of a List\n",
    "motocycles = []\n",
    "motocycles.append('honda')\n",
    "motocycles.append('yamaha')\n",
    "motocycles.append('suzuki')\n",
    "print(motocycles)"
   ]
  },
  {
   "cell_type": "code",
   "execution_count": 2,
   "id": "a878945b",
   "metadata": {},
   "outputs": [
    {
     "name": "stdout",
     "output_type": "stream",
     "text": [
      "['ducati', 'honda', 'yamaha', 'suzuki']\n"
     ]
    }
   ],
   "source": [
    "# Inserting Elements into a List\n",
    "motocycles.insert(0, 'ducati')\n",
    "print(motocycles)"
   ]
  },
  {
   "cell_type": "code",
   "execution_count": 4,
   "id": "f026f2cf",
   "metadata": {},
   "outputs": [
    {
     "name": "stdout",
     "output_type": "stream",
     "text": [
      "['honda', 'yamaha', 'suzuki']\n",
      "['yamaha', 'suzuki']\n"
     ]
    }
   ],
   "source": [
    "# removing an Item Using the del Statement\n",
    "motocycles = ['honda', 'yamaha', 'suzuki']\n",
    "print(motocycles)\n",
    "del motocycles[0]\n",
    "print(motocycles)"
   ]
  },
  {
   "cell_type": "code",
   "execution_count": 6,
   "id": "7c7a058f",
   "metadata": {},
   "outputs": [
    {
     "name": "stdout",
     "output_type": "stream",
     "text": [
      "['honda', 'yamaha', 'suzuki']\n",
      "['honda', 'yamaha']\n",
      "suzuki\n"
     ]
    }
   ],
   "source": [
    "# removing an Item Using the pop() Method\n",
    "motocycles = ['honda', 'yamaha', 'suzuki']\n",
    "print(motocycles)\n",
    "popped_motorcycle = motocycles.pop()\n",
    "print(motocycles)\n",
    "print(popped_motorcycle)\n"
   ]
  },
  {
   "cell_type": "code",
   "execution_count": 7,
   "id": "81294bca",
   "metadata": {},
   "outputs": [
    {
     "name": "stdout",
     "output_type": "stream",
     "text": [
      "The last motocycle I owned was a Suzuki.\n"
     ]
    }
   ],
   "source": [
    "motocycles = ['honda', 'yamaha', 'suzuki']\n",
    "last_owned = motocycles.pop()\n",
    "print(\"The last motocycle I owned was a \" + last_owned.title() + \".\")"
   ]
  },
  {
   "cell_type": "code",
   "execution_count": 8,
   "id": "541d1494",
   "metadata": {},
   "outputs": [
    {
     "name": "stdout",
     "output_type": "stream",
     "text": [
      "The first motocycle I owned was a Honda.\n"
     ]
    }
   ],
   "source": [
    "# Popping Items from any Position in a List\n",
    "motocycles = ['honda', 'yamaha', 'suzuki']\n",
    "first_owned = motocycles.pop(0)\n",
    "print(\"The first motocycle I owned was a \" + first_owned.title() + \".\")"
   ]
  },
  {
   "cell_type": "code",
   "execution_count": 9,
   "id": "bfc1aedc",
   "metadata": {},
   "outputs": [
    {
     "name": "stdout",
     "output_type": "stream",
     "text": [
      "['honda', 'yamaha', 'suzuki', 'ducati']\n",
      "['honda', 'yamaha', 'suzuki']\n"
     ]
    }
   ],
   "source": [
    "# removing an Item by Value\n",
    "motocycles = ['honda', 'yamaha', 'suzuki', 'ducati']\n",
    "print(motocycles)\n",
    "motocycles.remove('ducati')\n",
    "print(motocycles)"
   ]
  },
  {
   "cell_type": "code",
   "execution_count": 14,
   "id": "0d4f1a24",
   "metadata": {},
   "outputs": [
    {
     "name": "stdout",
     "output_type": "stream",
     "text": [
      "['honda', 'yamaha', 'suzuki', 'ducati']\n",
      "['honda', 'yamaha', 'suzuki']\n",
      "\n",
      "A Ducati is too expensive for me.\n"
     ]
    }
   ],
   "source": [
    "motocycles = ['honda', 'yamaha', 'suzuki', 'ducati']\n",
    "print(motocycles)\n",
    "too_expensive = 'ducati'\n",
    "motocycles.remove(too_expensive)\n",
    "print(motocycles)\n",
    "print(\"\\nA \" + too_expensive.title() + \" is too expensive for me.\")"
   ]
  },
  {
   "cell_type": "code",
   "execution_count": null,
   "id": "9930aa3e",
   "metadata": {},
   "outputs": [],
   "source": []
  }
 ],
 "metadata": {
  "kernelspec": {
   "display_name": "Python 3 (ipykernel)",
   "language": "python",
   "name": "python3"
  },
  "language_info": {
   "codemirror_mode": {
    "name": "ipython",
    "version": 3
   },
   "file_extension": ".py",
   "mimetype": "text/x-python",
   "name": "python",
   "nbconvert_exporter": "python",
   "pygments_lexer": "ipython3",
   "version": "3.9.7"
  }
 },
 "nbformat": 4,
 "nbformat_minor": 5
}
